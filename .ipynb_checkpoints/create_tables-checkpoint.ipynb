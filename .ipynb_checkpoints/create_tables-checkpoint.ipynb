{
 "cells": [
  {
   "cell_type": "code",
   "execution_count": null,
   "id": "9adbbfb0",
   "metadata": {},
   "outputs": [],
   "source": [
    "# %load create_tables.py\n",
    "import psycopg2\n",
    "from sql_queries import create_table_queries, drop_table_queries\n",
    "\n",
    "\n",
    "def create_database():\n",
    "    \"\"\"\n",
    "    - Creates and connects to the sparkifydb\n",
    "    - Returns the connection and cursor to sparkifydb\n",
    "    \"\"\"\n",
    "    \n",
    "    # connect to default database\n",
    "    conn = psycopg2.connect(\"host=127.0.0.1 dbname=studentdb user=postgres password=1234\")\n",
    "    conn.set_session(autocommit=True)\n",
    "    cur = conn.cursor()\n",
    "    \n",
    "    # create sparkify database with UTF8 encoding\n",
    "    cur.execute(\"DROP DATABASE IF EXISTS sparkifydb\")\n",
    "    cur.execute(\"CREATE DATABASE sparkifydb WITH ENCODING 'utf8' TEMPLATE template0\")\n",
    "\n",
    "    # close connection to default database\n",
    "    conn.close()    \n",
    "    \n",
    "    # connect to sparkify database\n",
    "    conn = psycopg2.connect(\"host=127.0.0.1 dbname=sparkifydb user=postgres password=1234\")\n",
    "    cur = conn.cursor()\n",
    "    \n",
    "    return cur, conn\n",
    "\n",
    "\n",
    "def drop_tables(cur, conn):\n",
    "    \"\"\"\n",
    "    Drops each table using the queries in `drop_table_queries` list.\n",
    "    \"\"\"\n",
    "    for query in create_table_queries:\n",
    "        try: \n",
    "            cur.execute(query)\n",
    "            conn.commit()\n",
    "        except psycopg2.Error as e: \n",
    "            print(\"Error: Dropping table\")\n",
    "            print (e)\n",
    "\n",
    "\n",
    "\n",
    "def create_tables(cur, conn):\n",
    "    \"\"\"\n",
    "    Creates each table using the queries in `create_table_queries` list. \n",
    "    \"\"\"\n",
    "    for query in create_table_queries:\n",
    "        try: \n",
    "            cur.execute(query)\n",
    "            conn.commit()\n",
    "        except psycopg2.Error as e: \n",
    "            print(\"Error: Creating table\")\n",
    "            print (e)\n",
    "\n",
    "       \n",
    "def main():\n",
    "    \"\"\"\n",
    "    - Drops (if exists) and Creates the sparkify database. \n",
    "    \n",
    "    - Establishes connection with the sparkify database and gets\n",
    "    cursor to it.  \n",
    "    \n",
    "    - Drops all the tables.  \n",
    "    \n",
    "    - Creates all tables needed. \n",
    "    \n",
    "    - Finally, closes the connection. \n",
    "    \"\"\"\n",
    "    #try:\n",
    "        cur, conn = create_database()\n",
    "\n",
    "        drop_tables(cur, conn)\n",
    "        create_tables(cur, conn)\n",
    "\n",
    "        conn.close()\n",
    "    \"\"\"\n",
    "    except psycopg2.Error as e: \n",
    "        print(\"Error: Creating table\")\n",
    "        print (e)\n",
    "    finally:\n",
    "        conn.close()\n",
    "    \"\"\"\n",
    "\n",
    "if __name__ == \"__main__\":\n",
    "    main()"
   ]
  },
  {
   "cell_type": "code",
   "execution_count": 2,
   "id": "6a21198d",
   "metadata": {},
   "outputs": [
    {
     "name": "stdout",
     "output_type": "stream",
     "text": [
      "Error: Creating table\n",
      "la base de datos «sparkifydb» está siendo utilizada por otros usuarios\n",
      "DETAIL:  Hay otras 3 sesiones usando la base de datos.\n",
      "\n"
     ]
    },
    {
     "ename": "UnboundLocalError",
     "evalue": "local variable 'conn' referenced before assignment",
     "output_type": "error",
     "traceback": [
      "\u001b[1;31m---------------------------------------------------------------------------\u001b[0m",
      "\u001b[1;31mUnboundLocalError\u001b[0m                         Traceback (most recent call last)",
      "File \u001b[1;32m~\\Documents\\jupyter-documents\\udacity-nanodegree-de\\project1\\create_tables.py:85\u001b[0m, in \u001b[0;36m<module>\u001b[1;34m\u001b[0m\n\u001b[0;32m     81\u001b[0m         conn\u001b[38;5;241m.\u001b[39mclose()\n\u001b[0;32m     84\u001b[0m \u001b[38;5;28;01mif\u001b[39;00m \u001b[38;5;18m__name__\u001b[39m \u001b[38;5;241m==\u001b[39m \u001b[38;5;124m\"\u001b[39m\u001b[38;5;124m__main__\u001b[39m\u001b[38;5;124m\"\u001b[39m:\n\u001b[1;32m---> 85\u001b[0m     \u001b[43mmain\u001b[49m\u001b[43m(\u001b[49m\u001b[43m)\u001b[49m\n",
      "File \u001b[1;32m~\\Documents\\jupyter-documents\\udacity-nanodegree-de\\project1\\create_tables.py:81\u001b[0m, in \u001b[0;36mmain\u001b[1;34m()\u001b[0m\n\u001b[0;32m     79\u001b[0m     \u001b[38;5;28mprint\u001b[39m (e)\n\u001b[0;32m     80\u001b[0m \u001b[38;5;28;01mfinally\u001b[39;00m:\n\u001b[1;32m---> 81\u001b[0m     \u001b[43mconn\u001b[49m\u001b[38;5;241m.\u001b[39mclose()\n",
      "\u001b[1;31mUnboundLocalError\u001b[0m: local variable 'conn' referenced before assignment"
     ]
    }
   ],
   "source": [
    "%run create_tables.py"
   ]
  }
 ],
 "metadata": {
  "kernelspec": {
   "display_name": "Python 3 (ipykernel)",
   "language": "python",
   "name": "python3"
  },
  "language_info": {
   "codemirror_mode": {
    "name": "ipython",
    "version": 3
   },
   "file_extension": ".py",
   "mimetype": "text/x-python",
   "name": "python",
   "nbconvert_exporter": "python",
   "pygments_lexer": "ipython3",
   "version": "3.10.2"
  }
 },
 "nbformat": 4,
 "nbformat_minor": 5
}
